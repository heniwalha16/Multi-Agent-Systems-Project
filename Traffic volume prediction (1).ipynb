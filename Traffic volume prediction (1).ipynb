{
 "cells": [
  {
   "cell_type": "code",
   "execution_count": 1,
   "metadata": {
    "execution": {
     "iopub.execute_input": "2023-12-12T15:37:09.141303Z",
     "iopub.status.busy": "2023-12-12T15:37:09.140974Z",
     "iopub.status.idle": "2023-12-12T15:37:10.286229Z",
     "shell.execute_reply": "2023-12-12T15:37:10.285652Z",
     "shell.execute_reply.started": "2023-12-12T15:37:09.141222Z"
    }
   },
   "outputs": [],
   "source": [
    "#Import necessary libraries\n",
    "import pandas as pd\n",
    "import numpy as np\n",
    "import matplotlib.pyplot as plt\n",
    "import seaborn as sns\n",
    "import warnings\n",
    "warnings.filterwarnings('ignore')"
   ]
  },
  {
   "cell_type": "code",
   "execution_count": 2,
   "metadata": {
    "execution": {
     "iopub.execute_input": "2023-12-12T15:37:10.287527Z",
     "iopub.status.busy": "2023-12-12T15:37:10.287356Z",
     "iopub.status.idle": "2023-12-12T15:37:10.396039Z",
     "shell.execute_reply": "2023-12-12T15:37:10.395425Z",
     "shell.execute_reply.started": "2023-12-12T15:37:10.287506Z"
    }
   },
   "outputs": [],
   "source": [
    "#Importing dataset from csv to data frame\n",
    "df_traffic_data = pd.read_csv(\"C:/Users/anisb/OneDrive/Desktop/Metro_Interstate_Traffic_Volume.csv\")"
   ]
  },
  {
   "cell_type": "code",
   "execution_count": 3,
   "metadata": {
    "execution": {
     "iopub.execute_input": "2023-12-12T15:37:10.397044Z",
     "iopub.status.busy": "2023-12-12T15:37:10.396848Z",
     "iopub.status.idle": "2023-12-12T15:37:10.414122Z",
     "shell.execute_reply": "2023-12-12T15:37:10.413218Z",
     "shell.execute_reply.started": "2023-12-12T15:37:10.397022Z"
    }
   },
   "outputs": [
    {
     "data": {
      "text/html": [
       "<div>\n",
       "<style scoped>\n",
       "    .dataframe tbody tr th:only-of-type {\n",
       "        vertical-align: middle;\n",
       "    }\n",
       "\n",
       "    .dataframe tbody tr th {\n",
       "        vertical-align: top;\n",
       "    }\n",
       "\n",
       "    .dataframe thead th {\n",
       "        text-align: right;\n",
       "    }\n",
       "</style>\n",
       "<table border=\"1\" class=\"dataframe\">\n",
       "  <thead>\n",
       "    <tr style=\"text-align: right;\">\n",
       "      <th></th>\n",
       "      <th>holiday</th>\n",
       "      <th>temp</th>\n",
       "      <th>rain_1h</th>\n",
       "      <th>snow_1h</th>\n",
       "      <th>clouds_all</th>\n",
       "      <th>weather_main</th>\n",
       "      <th>weather_description</th>\n",
       "      <th>date_time</th>\n",
       "      <th>traffic_volume</th>\n",
       "    </tr>\n",
       "  </thead>\n",
       "  <tbody>\n",
       "    <tr>\n",
       "      <th>0</th>\n",
       "      <td>NaN</td>\n",
       "      <td>288.28</td>\n",
       "      <td>0.0</td>\n",
       "      <td>0.0</td>\n",
       "      <td>40</td>\n",
       "      <td>Clouds</td>\n",
       "      <td>scattered clouds</td>\n",
       "      <td>2012-10-02 09:00:00</td>\n",
       "      <td>5545</td>\n",
       "    </tr>\n",
       "    <tr>\n",
       "      <th>1</th>\n",
       "      <td>NaN</td>\n",
       "      <td>289.36</td>\n",
       "      <td>0.0</td>\n",
       "      <td>0.0</td>\n",
       "      <td>75</td>\n",
       "      <td>Clouds</td>\n",
       "      <td>broken clouds</td>\n",
       "      <td>2012-10-02 10:00:00</td>\n",
       "      <td>4516</td>\n",
       "    </tr>\n",
       "    <tr>\n",
       "      <th>2</th>\n",
       "      <td>NaN</td>\n",
       "      <td>289.58</td>\n",
       "      <td>0.0</td>\n",
       "      <td>0.0</td>\n",
       "      <td>90</td>\n",
       "      <td>Clouds</td>\n",
       "      <td>overcast clouds</td>\n",
       "      <td>2012-10-02 11:00:00</td>\n",
       "      <td>4767</td>\n",
       "    </tr>\n",
       "    <tr>\n",
       "      <th>3</th>\n",
       "      <td>NaN</td>\n",
       "      <td>290.13</td>\n",
       "      <td>0.0</td>\n",
       "      <td>0.0</td>\n",
       "      <td>90</td>\n",
       "      <td>Clouds</td>\n",
       "      <td>overcast clouds</td>\n",
       "      <td>2012-10-02 12:00:00</td>\n",
       "      <td>5026</td>\n",
       "    </tr>\n",
       "    <tr>\n",
       "      <th>4</th>\n",
       "      <td>NaN</td>\n",
       "      <td>291.14</td>\n",
       "      <td>0.0</td>\n",
       "      <td>0.0</td>\n",
       "      <td>75</td>\n",
       "      <td>Clouds</td>\n",
       "      <td>broken clouds</td>\n",
       "      <td>2012-10-02 13:00:00</td>\n",
       "      <td>4918</td>\n",
       "    </tr>\n",
       "  </tbody>\n",
       "</table>\n",
       "</div>"
      ],
      "text/plain": [
       "  holiday    temp  rain_1h  snow_1h  clouds_all weather_main  \\\n",
       "0     NaN  288.28      0.0      0.0          40       Clouds   \n",
       "1     NaN  289.36      0.0      0.0          75       Clouds   \n",
       "2     NaN  289.58      0.0      0.0          90       Clouds   \n",
       "3     NaN  290.13      0.0      0.0          90       Clouds   \n",
       "4     NaN  291.14      0.0      0.0          75       Clouds   \n",
       "\n",
       "  weather_description            date_time  traffic_volume  \n",
       "0    scattered clouds  2012-10-02 09:00:00            5545  \n",
       "1       broken clouds  2012-10-02 10:00:00            4516  \n",
       "2     overcast clouds  2012-10-02 11:00:00            4767  \n",
       "3     overcast clouds  2012-10-02 12:00:00            5026  \n",
       "4       broken clouds  2012-10-02 13:00:00            4918  "
      ]
     },
     "execution_count": 3,
     "metadata": {},
     "output_type": "execute_result"
    }
   ],
   "source": [
    "df_traffic_data.head()"
   ]
  },
  {
   "cell_type": "code",
   "execution_count": 4,
   "metadata": {
    "execution": {
     "iopub.execute_input": "2023-12-12T15:37:10.416082Z",
     "iopub.status.busy": "2023-12-12T15:37:10.415826Z",
     "iopub.status.idle": "2023-12-12T15:37:10.419875Z",
     "shell.execute_reply": "2023-12-12T15:37:10.419406Z",
     "shell.execute_reply.started": "2023-12-12T15:37:10.416058Z"
    }
   },
   "outputs": [
    {
     "data": {
      "text/plain": [
       "(48204, 9)"
      ]
     },
     "execution_count": 4,
     "metadata": {},
     "output_type": "execute_result"
    }
   ],
   "source": [
    "df_traffic_data.shape"
   ]
  },
  {
   "cell_type": "code",
   "execution_count": 5,
   "metadata": {
    "execution": {
     "iopub.execute_input": "2023-12-12T15:37:10.420804Z",
     "iopub.status.busy": "2023-12-12T15:37:10.420630Z",
     "iopub.status.idle": "2023-12-12T15:37:10.433462Z",
     "shell.execute_reply": "2023-12-12T15:37:10.433039Z",
     "shell.execute_reply.started": "2023-12-12T15:37:10.420782Z"
    }
   },
   "outputs": [
    {
     "data": {
      "text/plain": [
       "holiday                 object\n",
       "temp                   float64\n",
       "rain_1h                float64\n",
       "snow_1h                float64\n",
       "clouds_all               int64\n",
       "weather_main            object\n",
       "weather_description     object\n",
       "date_time               object\n",
       "traffic_volume           int64\n",
       "dtype: object"
      ]
     },
     "execution_count": 5,
     "metadata": {},
     "output_type": "execute_result"
    }
   ],
   "source": [
    "df_traffic_data.dtypes"
   ]
  },
  {
   "cell_type": "code",
   "execution_count": 6,
   "metadata": {
    "execution": {
     "iopub.execute_input": "2023-12-12T15:37:10.434615Z",
     "iopub.status.busy": "2023-12-12T15:37:10.434390Z",
     "iopub.status.idle": "2023-12-12T15:37:10.462555Z",
     "shell.execute_reply": "2023-12-12T15:37:10.462037Z",
     "shell.execute_reply.started": "2023-12-12T15:37:10.434588Z"
    }
   },
   "outputs": [
    {
     "name": "stdout",
     "output_type": "stream",
     "text": [
      "<class 'pandas.core.frame.DataFrame'>\n",
      "RangeIndex: 48204 entries, 0 to 48203\n",
      "Data columns (total 9 columns):\n",
      " #   Column               Non-Null Count  Dtype  \n",
      "---  ------               --------------  -----  \n",
      " 0   holiday              61 non-null     object \n",
      " 1   temp                 48204 non-null  float64\n",
      " 2   rain_1h              48204 non-null  float64\n",
      " 3   snow_1h              48204 non-null  float64\n",
      " 4   clouds_all           48204 non-null  int64  \n",
      " 5   weather_main         48204 non-null  object \n",
      " 6   weather_description  48204 non-null  object \n",
      " 7   date_time            48204 non-null  object \n",
      " 8   traffic_volume       48204 non-null  int64  \n",
      "dtypes: float64(3), int64(2), object(4)\n",
      "memory usage: 3.3+ MB\n"
     ]
    }
   ],
   "source": [
    "df_traffic_data.info()"
   ]
  },
  {
   "cell_type": "markdown",
   "metadata": {},
   "source": [
    "#### No null value is present in the data."
   ]
  },
  {
   "cell_type": "code",
   "execution_count": 7,
   "metadata": {
    "execution": {
     "iopub.execute_input": "2023-12-12T15:37:10.463568Z",
     "iopub.status.busy": "2023-12-12T15:37:10.463353Z",
     "iopub.status.idle": "2023-12-12T15:37:10.488634Z",
     "shell.execute_reply": "2023-12-12T15:37:10.488021Z",
     "shell.execute_reply.started": "2023-12-12T15:37:10.463538Z"
    }
   },
   "outputs": [
    {
     "data": {
      "text/html": [
       "<div>\n",
       "<style scoped>\n",
       "    .dataframe tbody tr th:only-of-type {\n",
       "        vertical-align: middle;\n",
       "    }\n",
       "\n",
       "    .dataframe tbody tr th {\n",
       "        vertical-align: top;\n",
       "    }\n",
       "\n",
       "    .dataframe thead th {\n",
       "        text-align: right;\n",
       "    }\n",
       "</style>\n",
       "<table border=\"1\" class=\"dataframe\">\n",
       "  <thead>\n",
       "    <tr style=\"text-align: right;\">\n",
       "      <th></th>\n",
       "      <th>temp</th>\n",
       "      <th>rain_1h</th>\n",
       "      <th>snow_1h</th>\n",
       "      <th>clouds_all</th>\n",
       "      <th>traffic_volume</th>\n",
       "    </tr>\n",
       "  </thead>\n",
       "  <tbody>\n",
       "    <tr>\n",
       "      <th>count</th>\n",
       "      <td>48204.000000</td>\n",
       "      <td>48204.000000</td>\n",
       "      <td>48204.000000</td>\n",
       "      <td>48204.000000</td>\n",
       "      <td>48204.000000</td>\n",
       "    </tr>\n",
       "    <tr>\n",
       "      <th>mean</th>\n",
       "      <td>281.205870</td>\n",
       "      <td>0.334264</td>\n",
       "      <td>0.000222</td>\n",
       "      <td>49.362231</td>\n",
       "      <td>3259.818355</td>\n",
       "    </tr>\n",
       "    <tr>\n",
       "      <th>std</th>\n",
       "      <td>13.338232</td>\n",
       "      <td>44.789133</td>\n",
       "      <td>0.008168</td>\n",
       "      <td>39.015750</td>\n",
       "      <td>1986.860670</td>\n",
       "    </tr>\n",
       "    <tr>\n",
       "      <th>min</th>\n",
       "      <td>0.000000</td>\n",
       "      <td>0.000000</td>\n",
       "      <td>0.000000</td>\n",
       "      <td>0.000000</td>\n",
       "      <td>0.000000</td>\n",
       "    </tr>\n",
       "    <tr>\n",
       "      <th>25%</th>\n",
       "      <td>272.160000</td>\n",
       "      <td>0.000000</td>\n",
       "      <td>0.000000</td>\n",
       "      <td>1.000000</td>\n",
       "      <td>1193.000000</td>\n",
       "    </tr>\n",
       "    <tr>\n",
       "      <th>50%</th>\n",
       "      <td>282.450000</td>\n",
       "      <td>0.000000</td>\n",
       "      <td>0.000000</td>\n",
       "      <td>64.000000</td>\n",
       "      <td>3380.000000</td>\n",
       "    </tr>\n",
       "    <tr>\n",
       "      <th>75%</th>\n",
       "      <td>291.806000</td>\n",
       "      <td>0.000000</td>\n",
       "      <td>0.000000</td>\n",
       "      <td>90.000000</td>\n",
       "      <td>4933.000000</td>\n",
       "    </tr>\n",
       "    <tr>\n",
       "      <th>max</th>\n",
       "      <td>310.070000</td>\n",
       "      <td>9831.300000</td>\n",
       "      <td>0.510000</td>\n",
       "      <td>100.000000</td>\n",
       "      <td>7280.000000</td>\n",
       "    </tr>\n",
       "  </tbody>\n",
       "</table>\n",
       "</div>"
      ],
      "text/plain": [
       "               temp       rain_1h       snow_1h    clouds_all  traffic_volume\n",
       "count  48204.000000  48204.000000  48204.000000  48204.000000    48204.000000\n",
       "mean     281.205870      0.334264      0.000222     49.362231     3259.818355\n",
       "std       13.338232     44.789133      0.008168     39.015750     1986.860670\n",
       "min        0.000000      0.000000      0.000000      0.000000        0.000000\n",
       "25%      272.160000      0.000000      0.000000      1.000000     1193.000000\n",
       "50%      282.450000      0.000000      0.000000     64.000000     3380.000000\n",
       "75%      291.806000      0.000000      0.000000     90.000000     4933.000000\n",
       "max      310.070000   9831.300000      0.510000    100.000000     7280.000000"
      ]
     },
     "execution_count": 7,
     "metadata": {},
     "output_type": "execute_result"
    }
   ],
   "source": [
    "df_traffic_data.describe()"
   ]
  },
  {
   "cell_type": "code",
   "execution_count": 8,
   "metadata": {
    "execution": {
     "iopub.execute_input": "2023-12-12T15:37:10.489697Z",
     "iopub.status.busy": "2023-12-12T15:37:10.489528Z",
     "iopub.status.idle": "2023-12-12T15:37:10.532776Z",
     "shell.execute_reply": "2023-12-12T15:37:10.532302Z",
     "shell.execute_reply.started": "2023-12-12T15:37:10.489677Z"
    }
   },
   "outputs": [
    {
     "data": {
      "text/html": [
       "<div>\n",
       "<style scoped>\n",
       "    .dataframe tbody tr th:only-of-type {\n",
       "        vertical-align: middle;\n",
       "    }\n",
       "\n",
       "    .dataframe tbody tr th {\n",
       "        vertical-align: top;\n",
       "    }\n",
       "\n",
       "    .dataframe thead th {\n",
       "        text-align: right;\n",
       "    }\n",
       "</style>\n",
       "<table border=\"1\" class=\"dataframe\">\n",
       "  <thead>\n",
       "    <tr style=\"text-align: right;\">\n",
       "      <th></th>\n",
       "      <th>holiday</th>\n",
       "      <th>weather_main</th>\n",
       "      <th>weather_description</th>\n",
       "      <th>date_time</th>\n",
       "    </tr>\n",
       "  </thead>\n",
       "  <tbody>\n",
       "    <tr>\n",
       "      <th>count</th>\n",
       "      <td>61</td>\n",
       "      <td>48204</td>\n",
       "      <td>48204</td>\n",
       "      <td>48204</td>\n",
       "    </tr>\n",
       "    <tr>\n",
       "      <th>unique</th>\n",
       "      <td>11</td>\n",
       "      <td>11</td>\n",
       "      <td>38</td>\n",
       "      <td>40575</td>\n",
       "    </tr>\n",
       "    <tr>\n",
       "      <th>top</th>\n",
       "      <td>Labor Day</td>\n",
       "      <td>Clouds</td>\n",
       "      <td>sky is clear</td>\n",
       "      <td>2013-05-19 10:00:00</td>\n",
       "    </tr>\n",
       "    <tr>\n",
       "      <th>freq</th>\n",
       "      <td>7</td>\n",
       "      <td>15164</td>\n",
       "      <td>11665</td>\n",
       "      <td>6</td>\n",
       "    </tr>\n",
       "  </tbody>\n",
       "</table>\n",
       "</div>"
      ],
      "text/plain": [
       "          holiday weather_main weather_description            date_time\n",
       "count          61        48204               48204                48204\n",
       "unique         11           11                  38                40575\n",
       "top     Labor Day       Clouds        sky is clear  2013-05-19 10:00:00\n",
       "freq            7        15164               11665                    6"
      ]
     },
     "execution_count": 8,
     "metadata": {},
     "output_type": "execute_result"
    }
   ],
   "source": [
    "df_traffic_data.describe(include='object')"
   ]
  },
  {
   "cell_type": "code",
   "execution_count": 9,
   "metadata": {
    "execution": {
     "iopub.execute_input": "2023-12-12T15:37:10.533669Z",
     "iopub.status.busy": "2023-12-12T15:37:10.533486Z",
     "iopub.status.idle": "2023-12-12T15:37:10.544707Z",
     "shell.execute_reply": "2023-12-12T15:37:10.544161Z",
     "shell.execute_reply.started": "2023-12-12T15:37:10.533644Z"
    }
   },
   "outputs": [
    {
     "name": "stdout",
     "output_type": "stream",
     "text": [
      "max date :2018-09-30 23:00:00\n",
      "min date :2012-10-02 09:00:00\n"
     ]
    }
   ],
   "source": [
    "print(\"max date :\" +df_traffic_data.date_time.max())\n",
    "print(\"min date :\" +df_traffic_data.date_time.min())"
   ]
  },
  {
   "cell_type": "code",
   "execution_count": 10,
   "metadata": {
    "execution": {
     "iopub.execute_input": "2023-12-12T15:37:12.996892Z",
     "iopub.status.busy": "2023-12-12T15:37:12.996726Z",
     "iopub.status.idle": "2023-12-12T15:37:17.259785Z",
     "shell.execute_reply": "2023-12-12T15:37:17.259270Z",
     "shell.execute_reply.started": "2023-12-12T15:37:12.996872Z"
    }
   },
   "outputs": [
    {
     "data": {
      "image/png": "[encoded data removed]",
      "text/plain": [
       "<Figure size 1000x800 with 25 Axes>"
      ]
     },
     "metadata": {},
     "output_type": "display_data"
    }
   ],
   "source": [
    "#Plotting relationship between temp, rain_1h, snow_1h, cloud_all.\n",
    "num_vars = ['temp','rain_1h','snow_1h','clouds_all','traffic_volume']\n",
    "from pandas.plotting import scatter_matrix\n",
    "scatter_matrix(df_traffic_data[num_vars],figsize=(10,8))\n",
    "plt.show()"
   ]
  },
  {
   "cell_type": "markdown",
   "metadata": {},
   "source": [
    "### Feature engineering and Data cleaning"
   ]
  },
  {
   "cell_type": "code",
   "execution_count": 11,
   "metadata": {
    "execution": {
     "iopub.execute_input": "2023-12-12T15:37:23.168124Z",
     "iopub.status.busy": "2023-12-12T15:37:23.167950Z",
     "iopub.status.idle": "2023-12-12T15:37:23.172785Z",
     "shell.execute_reply": "2023-12-12T15:37:23.172323Z",
     "shell.execute_reply.started": "2023-12-12T15:37:23.168103Z"
    }
   },
   "outputs": [],
   "source": [
    "#copying data to new data frame\n",
    "df_traffic_features = df_traffic_data.copy()"
   ]
  },
  {
   "cell_type": "code",
   "execution_count": 12,
   "metadata": {
    "execution": {
     "iopub.execute_input": "2023-12-12T15:37:23.173696Z",
     "iopub.status.busy": "2023-12-12T15:37:23.173528Z",
     "iopub.status.idle": "2023-12-12T15:37:23.231430Z",
     "shell.execute_reply": "2023-12-12T15:37:23.230917Z",
     "shell.execute_reply.started": "2023-12-12T15:37:23.173675Z"
    }
   },
   "outputs": [],
   "source": [
    "#Extracting features from date_time variable\n",
    "df_traffic_features['date_time'] = pd.to_datetime(df_traffic_features.date_time)\n",
    "df_traffic_features['weekday'] = df_traffic_features.date_time.dt.weekday\n",
    "df_traffic_features['date'] = df_traffic_features.date_time.dt.date\n",
    "df_traffic_features['hour'] = df_traffic_features.date_time.dt.hour\n",
    "df_traffic_features['month'] = df_traffic_features.date_time.dt.month\n",
    "df_traffic_features['year'] = df_traffic_features.date_time.dt.year\n",
    "#Monday is 0 and Sunday is 6"
   ]
  },
  {
   "cell_type": "code",
   "execution_count": 13,
   "metadata": {
    "execution": {
     "iopub.execute_input": "2023-12-12T15:37:23.232348Z",
     "iopub.status.busy": "2023-12-12T15:37:23.232178Z",
     "iopub.status.idle": "2023-12-12T15:37:23.246023Z",
     "shell.execute_reply": "2023-12-12T15:37:23.245501Z",
     "shell.execute_reply.started": "2023-12-12T15:37:23.232329Z"
    }
   },
   "outputs": [
    {
     "data": {
      "text/html": [
       "<div>\n",
       "<style scoped>\n",
       "    .dataframe tbody tr th:only-of-type {\n",
       "        vertical-align: middle;\n",
       "    }\n",
       "\n",
       "    .dataframe tbody tr th {\n",
       "        vertical-align: top;\n",
       "    }\n",
       "\n",
       "    .dataframe thead th {\n",
       "        text-align: right;\n",
       "    }\n",
       "</style>\n",
       "<table border=\"1\" class=\"dataframe\">\n",
       "  <thead>\n",
       "    <tr style=\"text-align: right;\">\n",
       "      <th></th>\n",
       "      <th>holiday</th>\n",
       "      <th>temp</th>\n",
       "      <th>rain_1h</th>\n",
       "      <th>snow_1h</th>\n",
       "      <th>clouds_all</th>\n",
       "      <th>weather_main</th>\n",
       "      <th>weather_description</th>\n",
       "      <th>date_time</th>\n",
       "      <th>traffic_volume</th>\n",
       "      <th>weekday</th>\n",
       "      <th>date</th>\n",
       "      <th>hour</th>\n",
       "      <th>month</th>\n",
       "      <th>year</th>\n",
       "    </tr>\n",
       "  </thead>\n",
       "  <tbody>\n",
       "    <tr>\n",
       "      <th>0</th>\n",
       "      <td>NaN</td>\n",
       "      <td>288.28</td>\n",
       "      <td>0.0</td>\n",
       "      <td>0.0</td>\n",
       "      <td>40</td>\n",
       "      <td>Clouds</td>\n",
       "      <td>scattered clouds</td>\n",
       "      <td>2012-10-02 09:00:00</td>\n",
       "      <td>5545</td>\n",
       "      <td>1</td>\n",
       "      <td>2012-10-02</td>\n",
       "      <td>9</td>\n",
       "      <td>10</td>\n",
       "      <td>2012</td>\n",
       "    </tr>\n",
       "    <tr>\n",
       "      <th>1</th>\n",
       "      <td>NaN</td>\n",
       "      <td>289.36</td>\n",
       "      <td>0.0</td>\n",
       "      <td>0.0</td>\n",
       "      <td>75</td>\n",
       "      <td>Clouds</td>\n",
       "      <td>broken clouds</td>\n",
       "      <td>2012-10-02 10:00:00</td>\n",
       "      <td>4516</td>\n",
       "      <td>1</td>\n",
       "      <td>2012-10-02</td>\n",
       "      <td>10</td>\n",
       "      <td>10</td>\n",
       "      <td>2012</td>\n",
       "    </tr>\n",
       "    <tr>\n",
       "      <th>2</th>\n",
       "      <td>NaN</td>\n",
       "      <td>289.58</td>\n",
       "      <td>0.0</td>\n",
       "      <td>0.0</td>\n",
       "      <td>90</td>\n",
       "      <td>Clouds</td>\n",
       "      <td>overcast clouds</td>\n",
       "      <td>2012-10-02 11:00:00</td>\n",
       "      <td>4767</td>\n",
       "      <td>1</td>\n",
       "      <td>2012-10-02</td>\n",
       "      <td>11</td>\n",
       "      <td>10</td>\n",
       "      <td>2012</td>\n",
       "    </tr>\n",
       "    <tr>\n",
       "      <th>3</th>\n",
       "      <td>NaN</td>\n",
       "      <td>290.13</td>\n",
       "      <td>0.0</td>\n",
       "      <td>0.0</td>\n",
       "      <td>90</td>\n",
       "      <td>Clouds</td>\n",
       "      <td>overcast clouds</td>\n",
       "      <td>2012-10-02 12:00:00</td>\n",
       "      <td>5026</td>\n",
       "      <td>1</td>\n",
       "      <td>2012-10-02</td>\n",
       "      <td>12</td>\n",
       "      <td>10</td>\n",
       "      <td>2012</td>\n",
       "    </tr>\n",
       "    <tr>\n",
       "      <th>4</th>\n",
       "      <td>NaN</td>\n",
       "      <td>291.14</td>\n",
       "      <td>0.0</td>\n",
       "      <td>0.0</td>\n",
       "      <td>75</td>\n",
       "      <td>Clouds</td>\n",
       "      <td>broken clouds</td>\n",
       "      <td>2012-10-02 13:00:00</td>\n",
       "      <td>4918</td>\n",
       "      <td>1</td>\n",
       "      <td>2012-10-02</td>\n",
       "      <td>13</td>\n",
       "      <td>10</td>\n",
       "      <td>2012</td>\n",
       "    </tr>\n",
       "  </tbody>\n",
       "</table>\n",
       "</div>"
      ],
      "text/plain": [
       "  holiday    temp  rain_1h  snow_1h  clouds_all weather_main  \\\n",
       "0     NaN  288.28      0.0      0.0          40       Clouds   \n",
       "1     NaN  289.36      0.0      0.0          75       Clouds   \n",
       "2     NaN  289.58      0.0      0.0          90       Clouds   \n",
       "3     NaN  290.13      0.0      0.0          90       Clouds   \n",
       "4     NaN  291.14      0.0      0.0          75       Clouds   \n",
       "\n",
       "  weather_description           date_time  traffic_volume  weekday  \\\n",
       "0    scattered clouds 2012-10-02 09:00:00            5545        1   \n",
       "1       broken clouds 2012-10-02 10:00:00            4516        1   \n",
       "2     overcast clouds 2012-10-02 11:00:00            4767        1   \n",
       "3     overcast clouds 2012-10-02 12:00:00            5026        1   \n",
       "4       broken clouds 2012-10-02 13:00:00            4918        1   \n",
       "\n",
       "         date  hour  month  year  \n",
       "0  2012-10-02     9     10  2012  \n",
       "1  2012-10-02    10     10  2012  \n",
       "2  2012-10-02    11     10  2012  \n",
       "3  2012-10-02    12     10  2012  \n",
       "4  2012-10-02    13     10  2012  "
      ]
     },
     "execution_count": 13,
     "metadata": {},
     "output_type": "execute_result"
    }
   ],
   "source": [
    "df_traffic_features.head()"
   ]
  },
  {
   "cell_type": "code",
   "execution_count": 14,
   "metadata": {
    "execution": {
     "iopub.execute_input": "2023-12-12T15:37:23.247025Z",
     "iopub.status.busy": "2023-12-12T15:37:23.246827Z",
     "iopub.status.idle": "2023-12-12T15:37:23.286487Z",
     "shell.execute_reply": "2023-12-12T15:37:23.285955Z",
     "shell.execute_reply.started": "2023-12-12T15:37:23.246985Z"
    }
   },
   "outputs": [],
   "source": [
    "#categorizing hours to different time periods like morning, afternoon etc\n",
    "def hour_modify(x):\n",
    "    Early_Morning = [4,5,6,7]\n",
    "    Morning = [8,9,10,11]\n",
    "    Afternoon = [12,13,14,15]\n",
    "    Evening = [16,17,18,19]\n",
    "    Night = [20,21,22,23]\n",
    "    Late_Night = [24,1,2,3]\n",
    "    if x in Early_Morning:\n",
    "        return 'Early_Morning'\n",
    "    elif x in Morning:\n",
    "        return 'Morning'\n",
    "    elif x in Afternoon:\n",
    "        return 'Afternoon'\n",
    "    elif x in Evening:\n",
    "        return 'Evening'\n",
    "    elif x in Night:\n",
    "        return 'Night'\n",
    "    else:\n",
    "        return 'Late_Night'\n",
    "    \n",
    "df_traffic_features['hour'] = df_traffic_features.hour.map(hour_modify)"
   ]
  },
  {
   "cell_type": "code",
   "execution_count": 15,
   "metadata": {
    "execution": {
     "iopub.execute_input": "2023-12-12T15:37:23.477576Z",
     "iopub.status.busy": "2023-12-12T15:37:23.477419Z",
     "iopub.status.idle": "2023-12-12T15:37:23.654423Z",
     "shell.execute_reply": "2023-12-12T15:37:23.653919Z",
     "shell.execute_reply.started": "2023-12-12T15:37:23.477556Z"
    }
   },
   "outputs": [
    {
     "data": {
      "image/png": "[encoded data removed]",
      "text/plain": [
       "<Figure size 800x600 with 1 Axes>"
      ]
     },
     "metadata": {},
     "output_type": "display_data"
    }
   ],
   "source": [
    "#aggreagating traffic volume over year and plotting \n",
    "\n",
    "df_date_traffic = df_traffic_features.groupby('year').aggregate({'traffic_volume':'mean'})\n",
    "plt.figure(figsize=(8,6))\n",
    "sns.lineplot(x = df_date_traffic.index, y = df_date_traffic.traffic_volume, data = df_date_traffic)\n",
    "plt.show()"
   ]
  },
  {
   "cell_type": "code",
   "execution_count": 16,
   "metadata": {
    "execution": {
     "iopub.execute_input": "2023-12-12T15:37:23.655438Z",
     "iopub.status.busy": "2023-12-12T15:37:23.655251Z",
     "iopub.status.idle": "2023-12-12T15:37:23.666898Z",
     "shell.execute_reply": "2023-12-12T15:37:23.666370Z",
     "shell.execute_reply.started": "2023-12-12T15:37:23.655414Z"
    }
   },
   "outputs": [],
   "source": [
    "#Other holidays are very sparse compared to none holidays. \n",
    "#Hence encoding the holidays as TRUE and none Holidays as FALSE\n",
    "\n",
    "def modify_holiday(x):\n",
    "    if x == 'None':\n",
    "        return False\n",
    "    else:\n",
    "        return True\n",
    "df_traffic_features['holiday'] = df_traffic_features['holiday'].map(modify_holiday)"
   ]
  },
  {
   "cell_type": "code",
   "execution_count": 17,
   "metadata": {
    "execution": {
     "iopub.execute_input": "2023-12-12T15:37:23.667834Z",
     "iopub.status.busy": "2023-12-12T15:37:23.667669Z",
     "iopub.status.idle": "2023-12-12T15:37:23.691452Z",
     "shell.execute_reply": "2023-12-12T15:37:23.690920Z",
     "shell.execute_reply.started": "2023-12-12T15:37:23.667814Z"
    }
   },
   "outputs": [],
   "source": [
    "#Outlier in temp which was detected earlier needs to be removed\n",
    "df_traffic_features = df_traffic_features.loc[df_traffic_features.temp>-250]"
   ]
  },
  {
   "cell_type": "code",
   "execution_count": 18,
   "metadata": {
    "execution": {
     "iopub.execute_input": "2023-12-12T15:37:24.154343Z",
     "iopub.status.busy": "2023-12-12T15:37:24.154139Z",
     "iopub.status.idle": "2023-12-12T15:37:24.171472Z",
     "shell.execute_reply": "2023-12-12T15:37:24.170940Z",
     "shell.execute_reply.started": "2023-12-12T15:37:24.154317Z"
    }
   },
   "outputs": [],
   "source": [
    "df_traffic_features['weather_description'] = df_traffic_features['weather_description'].map(lambda x:x.lower())"
   ]
  },
  {
   "cell_type": "code",
   "execution_count": 19,
   "metadata": {
    "execution": {
     "iopub.execute_input": "2023-12-12T15:37:24.183106Z",
     "iopub.status.busy": "2023-12-12T15:37:24.182896Z",
     "iopub.status.idle": "2023-12-12T15:37:24.213979Z",
     "shell.execute_reply": "2023-12-12T15:37:24.213524Z",
     "shell.execute_reply.started": "2023-12-12T15:37:24.183083Z"
    }
   },
   "outputs": [],
   "source": [
    "#Any row containing \"thunderstorm\" is replaced by \"thunderstorm\"\n",
    "df_traffic_features.loc[df_traffic_features['weather_description'].str.contains('thunderstorm'),'weather_description'] = 'thunderstorm'    "
   ]
  },
  {
   "cell_type": "code",
   "execution_count": 20,
   "metadata": {
    "execution": {
     "iopub.execute_input": "2023-12-12T15:37:24.215052Z",
     "iopub.status.busy": "2023-12-12T15:37:24.214798Z",
     "iopub.status.idle": "2023-12-12T15:37:24.223427Z",
     "shell.execute_reply": "2023-12-12T15:37:24.222941Z",
     "shell.execute_reply.started": "2023-12-12T15:37:24.215011Z"
    }
   },
   "outputs": [],
   "source": [
    "weather = ['thunderstorm','mist','fog','haze']\n",
    "df_traffic_features.loc[np.logical_not(df_traffic_features['weather_description'].isin(weather)),'weather_description'] = 'other'"
   ]
  },
  {
   "cell_type": "code",
   "execution_count": 21,
   "metadata": {
    "execution": {
     "iopub.execute_input": "2023-12-12T15:37:24.236787Z",
     "iopub.status.busy": "2023-12-12T15:37:24.236609Z",
     "iopub.status.idle": "2023-12-12T15:37:24.413868Z",
     "shell.execute_reply": "2023-12-12T15:37:24.413310Z",
     "shell.execute_reply.started": "2023-12-12T15:37:24.236765Z"
    }
   },
   "outputs": [],
   "source": [
    "#creating dummy variables for these newly created categories in weather description\n",
    "df_traffic_features = pd.get_dummies(columns=['weather_description'],data=df_traffic_features)"
   ]
  },
  {
   "cell_type": "code",
   "execution_count": 22,
   "metadata": {
    "execution": {
     "iopub.execute_input": "2023-12-12T15:37:24.414952Z",
     "iopub.status.busy": "2023-12-12T15:37:24.414762Z",
     "iopub.status.idle": "2023-12-12T15:37:24.423098Z",
     "shell.execute_reply": "2023-12-12T15:37:24.422599Z",
     "shell.execute_reply.started": "2023-12-12T15:37:24.414928Z"
    }
   },
   "outputs": [],
   "source": [
    "df_traffic_features.rename(columns={'weather_description_fog':'fog', 'weather_description_haze':'haze',\n",
    "                                   'weather_description_mist':'mist', 'weather_description_thunderstorm':'thunderstorm'}, inplace = True)\n",
    "df_traffic_features.drop(columns = ['weather_description_other', 'weather_main'], inplace = True)"
   ]
  },
  {
   "cell_type": "code",
   "execution_count": 23,
   "metadata": {
    "execution": {
     "iopub.execute_input": "2023-12-12T15:37:24.424034Z",
     "iopub.status.busy": "2023-12-12T15:37:24.423851Z",
     "iopub.status.idle": "2023-12-12T15:37:24.434414Z",
     "shell.execute_reply": "2023-12-12T15:37:24.433928Z",
     "shell.execute_reply.started": "2023-12-12T15:37:24.424013Z"
    }
   },
   "outputs": [
    {
     "data": {
      "text/plain": [
       "Index(['holiday', 'temp', 'rain_1h', 'snow_1h', 'clouds_all', 'date_time',\n",
       "       'traffic_volume', 'weekday', 'date', 'hour', 'month', 'year', 'fog',\n",
       "       'haze', 'mist', 'thunderstorm'],\n",
       "      dtype='object')"
      ]
     },
     "execution_count": 23,
     "metadata": {},
     "output_type": "execute_result"
    }
   ],
   "source": [
    "df_traffic_features.columns"
   ]
  },
  {
   "cell_type": "code",
   "execution_count": 24,
   "metadata": {
    "execution": {
     "iopub.execute_input": "2023-12-12T15:37:24.732633Z",
     "iopub.status.busy": "2023-12-12T15:37:24.732465Z",
     "iopub.status.idle": "2023-12-12T15:37:24.763628Z",
     "shell.execute_reply": "2023-12-12T15:37:24.763173Z",
     "shell.execute_reply.started": "2023-12-12T15:37:24.732613Z"
    }
   },
   "outputs": [
    {
     "data": {
      "text/html": [
       "<div>\n",
       "<style scoped>\n",
       "    .dataframe tbody tr th:only-of-type {\n",
       "        vertical-align: middle;\n",
       "    }\n",
       "\n",
       "    .dataframe tbody tr th {\n",
       "        vertical-align: top;\n",
       "    }\n",
       "\n",
       "    .dataframe thead th {\n",
       "        text-align: right;\n",
       "    }\n",
       "</style>\n",
       "<table border=\"1\" class=\"dataframe\">\n",
       "  <thead>\n",
       "    <tr style=\"text-align: right;\">\n",
       "      <th></th>\n",
       "      <th>holiday</th>\n",
       "      <th>temp</th>\n",
       "      <th>snow_1h</th>\n",
       "      <th>clouds_all</th>\n",
       "      <th>date_time</th>\n",
       "      <th>traffic_volume</th>\n",
       "      <th>weekday</th>\n",
       "      <th>date</th>\n",
       "      <th>hour</th>\n",
       "      <th>month</th>\n",
       "      <th>year</th>\n",
       "      <th>fog</th>\n",
       "      <th>haze</th>\n",
       "      <th>mist</th>\n",
       "      <th>thunderstorm</th>\n",
       "      <th>rain_1h</th>\n",
       "    </tr>\n",
       "  </thead>\n",
       "  <tbody>\n",
       "    <tr>\n",
       "      <th>0</th>\n",
       "      <td>True</td>\n",
       "      <td>288.28</td>\n",
       "      <td>0.0</td>\n",
       "      <td>40</td>\n",
       "      <td>2012-10-02 09:00:00</td>\n",
       "      <td>5545</td>\n",
       "      <td>1</td>\n",
       "      <td>2012-10-02</td>\n",
       "      <td>Morning</td>\n",
       "      <td>10</td>\n",
       "      <td>2012</td>\n",
       "      <td>False</td>\n",
       "      <td>False</td>\n",
       "      <td>False</td>\n",
       "      <td>False</td>\n",
       "      <td>no_rain</td>\n",
       "    </tr>\n",
       "    <tr>\n",
       "      <th>1</th>\n",
       "      <td>True</td>\n",
       "      <td>289.36</td>\n",
       "      <td>0.0</td>\n",
       "      <td>75</td>\n",
       "      <td>2012-10-02 10:00:00</td>\n",
       "      <td>4516</td>\n",
       "      <td>1</td>\n",
       "      <td>2012-10-02</td>\n",
       "      <td>Morning</td>\n",
       "      <td>10</td>\n",
       "      <td>2012</td>\n",
       "      <td>False</td>\n",
       "      <td>False</td>\n",
       "      <td>False</td>\n",
       "      <td>False</td>\n",
       "      <td>no_rain</td>\n",
       "    </tr>\n",
       "    <tr>\n",
       "      <th>2</th>\n",
       "      <td>True</td>\n",
       "      <td>289.58</td>\n",
       "      <td>0.0</td>\n",
       "      <td>90</td>\n",
       "      <td>2012-10-02 11:00:00</td>\n",
       "      <td>4767</td>\n",
       "      <td>1</td>\n",
       "      <td>2012-10-02</td>\n",
       "      <td>Morning</td>\n",
       "      <td>10</td>\n",
       "      <td>2012</td>\n",
       "      <td>False</td>\n",
       "      <td>False</td>\n",
       "      <td>False</td>\n",
       "      <td>False</td>\n",
       "      <td>no_rain</td>\n",
       "    </tr>\n",
       "    <tr>\n",
       "      <th>3</th>\n",
       "      <td>True</td>\n",
       "      <td>290.13</td>\n",
       "      <td>0.0</td>\n",
       "      <td>90</td>\n",
       "      <td>2012-10-02 12:00:00</td>\n",
       "      <td>5026</td>\n",
       "      <td>1</td>\n",
       "      <td>2012-10-02</td>\n",
       "      <td>Afternoon</td>\n",
       "      <td>10</td>\n",
       "      <td>2012</td>\n",
       "      <td>False</td>\n",
       "      <td>False</td>\n",
       "      <td>False</td>\n",
       "      <td>False</td>\n",
       "      <td>no_rain</td>\n",
       "    </tr>\n",
       "    <tr>\n",
       "      <th>4</th>\n",
       "      <td>True</td>\n",
       "      <td>291.14</td>\n",
       "      <td>0.0</td>\n",
       "      <td>75</td>\n",
       "      <td>2012-10-02 13:00:00</td>\n",
       "      <td>4918</td>\n",
       "      <td>1</td>\n",
       "      <td>2012-10-02</td>\n",
       "      <td>Afternoon</td>\n",
       "      <td>10</td>\n",
       "      <td>2012</td>\n",
       "      <td>False</td>\n",
       "      <td>False</td>\n",
       "      <td>False</td>\n",
       "      <td>False</td>\n",
       "      <td>no_rain</td>\n",
       "    </tr>\n",
       "  </tbody>\n",
       "</table>\n",
       "</div>"
      ],
      "text/plain": [
       "   holiday    temp  snow_1h  clouds_all           date_time  traffic_volume  \\\n",
       "0     True  288.28      0.0          40 2012-10-02 09:00:00            5545   \n",
       "1     True  289.36      0.0          75 2012-10-02 10:00:00            4516   \n",
       "2     True  289.58      0.0          90 2012-10-02 11:00:00            4767   \n",
       "3     True  290.13      0.0          90 2012-10-02 12:00:00            5026   \n",
       "4     True  291.14      0.0          75 2012-10-02 13:00:00            4918   \n",
       "\n",
       "   weekday        date       hour  month  year    fog   haze   mist  \\\n",
       "0        1  2012-10-02    Morning     10  2012  False  False  False   \n",
       "1        1  2012-10-02    Morning     10  2012  False  False  False   \n",
       "2        1  2012-10-02    Morning     10  2012  False  False  False   \n",
       "3        1  2012-10-02  Afternoon     10  2012  False  False  False   \n",
       "4        1  2012-10-02  Afternoon     10  2012  False  False  False   \n",
       "\n",
       "   thunderstorm  rain_1h  \n",
       "0         False  no_rain  \n",
       "1         False  no_rain  \n",
       "2         False  no_rain  \n",
       "3         False  no_rain  \n",
       "4         False  no_rain  "
      ]
     },
     "execution_count": 24,
     "metadata": {},
     "output_type": "execute_result"
    }
   ],
   "source": [
    "#Removing outlier in rain column and converting numeric data to categories\n",
    "#rain value equal to 0.0 as no_rain\n",
    "#rain value greater than 0.0 is cut into 3 quantiles\n",
    "\n",
    "df_traffic_features = df_traffic_features.loc[df_traffic_features.rain_1h<2000]\n",
    "df_traffic_features_temp = df_traffic_features.loc[df_traffic_features.rain_1h>0]\n",
    "rain_q = pd.DataFrame(pd.qcut(df_traffic_features_temp['rain_1h'] ,q=3, labels=['light','moderate','heavy']))\n",
    "df_traffic_cat = df_traffic_features.merge(rain_q,left_index=True, right_index=True, how='left')\n",
    "df_traffic_cat['rain_1h_y'] = df_traffic_cat.rain_1h_y.cat.add_categories('no_rain')\n",
    "df_traffic_cat['rain_1h_y'].fillna('no_rain', inplace = True) #no_rain is not in the category, adding it and filling\n",
    "\n",
    "df_traffic_cat.drop(columns=['rain_1h_x'], inplace = True)\n",
    "df_traffic_cat.rename(columns={'rain_1h_y':'rain_1h'}, inplace = True)\n",
    "df_traffic_cat.head()"
   ]
  },
  {
   "cell_type": "code",
   "execution_count": 25,
   "metadata": {
    "execution": {
     "iopub.execute_input": "2023-12-12T15:37:24.912800Z",
     "iopub.status.busy": "2023-12-12T15:37:24.912637Z",
     "iopub.status.idle": "2023-12-12T15:37:24.931821Z",
     "shell.execute_reply": "2023-12-12T15:37:24.931356Z",
     "shell.execute_reply.started": "2023-12-12T15:37:24.912780Z"
    }
   },
   "outputs": [],
   "source": [
    "def modify_snow1h(x):\n",
    "    if x==0:\n",
    "        return 'no_snow'\n",
    "    else:\n",
    "        return 'snow'\n",
    "    \n",
    "df_date_traffic['snow_1h'] = df_traffic_cat.snow_1h.map(modify_snow1h)"
   ]
  },
  {
   "cell_type": "code",
   "execution_count": 26,
   "metadata": {
    "execution": {
     "iopub.execute_input": "2023-12-12T15:37:24.932635Z",
     "iopub.status.busy": "2023-12-12T15:37:24.932483Z",
     "iopub.status.idle": "2023-12-12T15:37:24.950618Z",
     "shell.execute_reply": "2023-12-12T15:37:24.950138Z",
     "shell.execute_reply.started": "2023-12-12T15:37:24.932616Z"
    }
   },
   "outputs": [
    {
     "data": {
      "text/html": [
       "<div>\n",
       "<style scoped>\n",
       "    .dataframe tbody tr th:only-of-type {\n",
       "        vertical-align: middle;\n",
       "    }\n",
       "\n",
       "    .dataframe tbody tr th {\n",
       "        vertical-align: top;\n",
       "    }\n",
       "\n",
       "    .dataframe thead th {\n",
       "        text-align: right;\n",
       "    }\n",
       "</style>\n",
       "<table border=\"1\" class=\"dataframe\">\n",
       "  <thead>\n",
       "    <tr style=\"text-align: right;\">\n",
       "      <th></th>\n",
       "      <th>holiday</th>\n",
       "      <th>temp</th>\n",
       "      <th>rain_1h</th>\n",
       "      <th>snow_1h</th>\n",
       "      <th>clouds_all</th>\n",
       "      <th>date_time</th>\n",
       "      <th>traffic_volume</th>\n",
       "      <th>weekday</th>\n",
       "      <th>date</th>\n",
       "      <th>hour</th>\n",
       "      <th>month</th>\n",
       "      <th>year</th>\n",
       "      <th>fog</th>\n",
       "      <th>haze</th>\n",
       "      <th>mist</th>\n",
       "      <th>thunderstorm</th>\n",
       "    </tr>\n",
       "  </thead>\n",
       "  <tbody>\n",
       "    <tr>\n",
       "      <th>0</th>\n",
       "      <td>True</td>\n",
       "      <td>288.28</td>\n",
       "      <td>0.0</td>\n",
       "      <td>0.0</td>\n",
       "      <td>40</td>\n",
       "      <td>2012-10-02 09:00:00</td>\n",
       "      <td>5545</td>\n",
       "      <td>1</td>\n",
       "      <td>2012-10-02</td>\n",
       "      <td>Morning</td>\n",
       "      <td>10</td>\n",
       "      <td>2012</td>\n",
       "      <td>False</td>\n",
       "      <td>False</td>\n",
       "      <td>False</td>\n",
       "      <td>False</td>\n",
       "    </tr>\n",
       "    <tr>\n",
       "      <th>1</th>\n",
       "      <td>True</td>\n",
       "      <td>289.36</td>\n",
       "      <td>0.0</td>\n",
       "      <td>0.0</td>\n",
       "      <td>75</td>\n",
       "      <td>2012-10-02 10:00:00</td>\n",
       "      <td>4516</td>\n",
       "      <td>1</td>\n",
       "      <td>2012-10-02</td>\n",
       "      <td>Morning</td>\n",
       "      <td>10</td>\n",
       "      <td>2012</td>\n",
       "      <td>False</td>\n",
       "      <td>False</td>\n",
       "      <td>False</td>\n",
       "      <td>False</td>\n",
       "    </tr>\n",
       "    <tr>\n",
       "      <th>2</th>\n",
       "      <td>True</td>\n",
       "      <td>289.58</td>\n",
       "      <td>0.0</td>\n",
       "      <td>0.0</td>\n",
       "      <td>90</td>\n",
       "      <td>2012-10-02 11:00:00</td>\n",
       "      <td>4767</td>\n",
       "      <td>1</td>\n",
       "      <td>2012-10-02</td>\n",
       "      <td>Morning</td>\n",
       "      <td>10</td>\n",
       "      <td>2012</td>\n",
       "      <td>False</td>\n",
       "      <td>False</td>\n",
       "      <td>False</td>\n",
       "      <td>False</td>\n",
       "    </tr>\n",
       "    <tr>\n",
       "      <th>3</th>\n",
       "      <td>True</td>\n",
       "      <td>290.13</td>\n",
       "      <td>0.0</td>\n",
       "      <td>0.0</td>\n",
       "      <td>90</td>\n",
       "      <td>2012-10-02 12:00:00</td>\n",
       "      <td>5026</td>\n",
       "      <td>1</td>\n",
       "      <td>2012-10-02</td>\n",
       "      <td>Afternoon</td>\n",
       "      <td>10</td>\n",
       "      <td>2012</td>\n",
       "      <td>False</td>\n",
       "      <td>False</td>\n",
       "      <td>False</td>\n",
       "      <td>False</td>\n",
       "    </tr>\n",
       "    <tr>\n",
       "      <th>4</th>\n",
       "      <td>True</td>\n",
       "      <td>291.14</td>\n",
       "      <td>0.0</td>\n",
       "      <td>0.0</td>\n",
       "      <td>75</td>\n",
       "      <td>2012-10-02 13:00:00</td>\n",
       "      <td>4918</td>\n",
       "      <td>1</td>\n",
       "      <td>2012-10-02</td>\n",
       "      <td>Afternoon</td>\n",
       "      <td>10</td>\n",
       "      <td>2012</td>\n",
       "      <td>False</td>\n",
       "      <td>False</td>\n",
       "      <td>False</td>\n",
       "      <td>False</td>\n",
       "    </tr>\n",
       "  </tbody>\n",
       "</table>\n",
       "</div>"
      ],
      "text/plain": [
       "   holiday    temp  rain_1h  snow_1h  clouds_all           date_time  \\\n",
       "0     True  288.28      0.0      0.0          40 2012-10-02 09:00:00   \n",
       "1     True  289.36      0.0      0.0          75 2012-10-02 10:00:00   \n",
       "2     True  289.58      0.0      0.0          90 2012-10-02 11:00:00   \n",
       "3     True  290.13      0.0      0.0          90 2012-10-02 12:00:00   \n",
       "4     True  291.14      0.0      0.0          75 2012-10-02 13:00:00   \n",
       "\n",
       "   traffic_volume  weekday        date       hour  month  year    fog   haze  \\\n",
       "0            5545        1  2012-10-02    Morning     10  2012  False  False   \n",
       "1            4516        1  2012-10-02    Morning     10  2012  False  False   \n",
       "2            4767        1  2012-10-02    Morning     10  2012  False  False   \n",
       "3            5026        1  2012-10-02  Afternoon     10  2012  False  False   \n",
       "4            4918        1  2012-10-02  Afternoon     10  2012  False  False   \n",
       "\n",
       "    mist  thunderstorm  \n",
       "0  False         False  \n",
       "1  False         False  \n",
       "2  False         False  \n",
       "3  False         False  \n",
       "4  False         False  "
      ]
     },
     "execution_count": 26,
     "metadata": {},
     "output_type": "execute_result"
    }
   ],
   "source": [
    "df_traffic_features.head()"
   ]
  },
  {
   "cell_type": "code",
   "execution_count": 27,
   "metadata": {
    "execution": {
     "iopub.execute_input": "2023-12-12T15:37:24.951540Z",
     "iopub.status.busy": "2023-12-12T15:37:24.951362Z",
     "iopub.status.idle": "2023-12-12T15:37:24.964215Z",
     "shell.execute_reply": "2023-12-12T15:37:24.963714Z",
     "shell.execute_reply.started": "2023-12-12T15:37:24.951520Z"
    }
   },
   "outputs": [],
   "source": [
    "#setting date as index\n",
    "df_traffic_cat.set_index('date', inplace = True)"
   ]
  },
  {
   "cell_type": "code",
   "execution_count": 28,
   "metadata": {
    "execution": {
     "iopub.execute_input": "2023-12-12T15:37:24.965027Z",
     "iopub.status.busy": "2023-12-12T15:37:24.964858Z",
     "iopub.status.idle": "2023-12-12T15:37:24.974334Z",
     "shell.execute_reply": "2023-12-12T15:37:24.973829Z",
     "shell.execute_reply.started": "2023-12-12T15:37:24.965007Z"
    }
   },
   "outputs": [
    {
     "data": {
      "text/plain": [
       "Index(['holiday', 'temp', 'snow_1h', 'clouds_all', 'date_time',\n",
       "       'traffic_volume', 'weekday', 'hour', 'month', 'year', 'fog', 'haze',\n",
       "       'mist', 'thunderstorm', 'rain_1h'],\n",
       "      dtype='object')"
      ]
     },
     "execution_count": 28,
     "metadata": {},
     "output_type": "execute_result"
    }
   ],
   "source": [
    "df_traffic_cat.columns"
   ]
  },
  {
   "cell_type": "code",
   "execution_count": 29,
   "metadata": {
    "execution": {
     "iopub.execute_input": "2023-12-12T15:37:24.975207Z",
     "iopub.status.busy": "2023-12-12T15:37:24.975021Z",
     "iopub.status.idle": "2023-12-12T15:37:24.983494Z",
     "shell.execute_reply": "2023-12-12T15:37:24.983024Z",
     "shell.execute_reply.started": "2023-12-12T15:37:24.975186Z"
    }
   },
   "outputs": [],
   "source": [
    "target = ['traffic_volume']\n",
    "cat_vars = ['holiday', 'snow_1h','weekday', 'hour', 'month', 'year', 'fog', 'haze','mist', 'thunderstorm', 'rain_1h']\n",
    "num_vars = ['temp','clouds_all']"
   ]
  },
  {
   "cell_type": "code",
   "execution_count": 30,
   "metadata": {
    "execution": {
     "iopub.execute_input": "2023-12-12T15:37:24.984382Z",
     "iopub.status.busy": "2023-12-12T15:37:24.984220Z",
     "iopub.status.idle": "2023-12-12T15:37:25.246522Z",
     "shell.execute_reply": "2023-12-12T15:37:25.245863Z",
     "shell.execute_reply.started": "2023-12-12T15:37:24.984362Z"
    }
   },
   "outputs": [],
   "source": [
    "#Creating pipeline to transform data\n",
    "from sklearn.pipeline import Pipeline\n",
    "from sklearn.preprocessing import OneHotEncoder, StandardScaler\n",
    "from sklearn.compose import ColumnTransformer\n",
    "\n",
    "numeric_transformer = Pipeline(steps=[\n",
    "    ('scaler', StandardScaler())])\n",
    "categorical_transformer = Pipeline(steps=[\n",
    "    ('oneHot',OneHotEncoder())])\n",
    "\n",
    "preprocessor = ColumnTransformer(transformers=[\n",
    "    ('num',numeric_transformer,num_vars),\n",
    "    ('cat',categorical_transformer,cat_vars)])\n",
    "\n",
    "df_traffic_transformed = preprocessor.fit_transform(df_traffic_cat).toarray()"
   ]
  },
  {
   "cell_type": "code",
   "execution_count": null,
   "metadata": {
    "execution": {
     "iopub.execute_input": "2023-12-12T15:37:25.247639Z",
     "iopub.status.busy": "2023-12-12T15:37:25.247463Z",
     "iopub.status.idle": "2023-12-12T15:37:25.252650Z",
     "shell.execute_reply": "2023-12-12T15:37:25.252165Z",
     "shell.execute_reply.started": "2023-12-12T15:37:25.247619Z"
    }
   },
   "outputs": [],
   "source": [
    "#Splitting data into train and test data\n",
    "\n",
    "X_train = df_traffic_transformed[:32290]\n",
    "X_test = df_traffic_transformed[32291:]\n",
    "y_train = df_traffic_cat.traffic_volume[:32290]\n",
    "y_test = df_traffic_cat.traffic_volume[32291:]"
   ]
  },
  {
   "cell_type": "code",
   "execution_count": null,
   "metadata": {
    "execution": {
     "iopub.execute_input": "2023-12-12T15:37:25.253519Z",
     "iopub.status.busy": "2023-12-12T15:37:25.253344Z",
     "iopub.status.idle": "2023-12-12T15:41:23.096508Z",
     "shell.execute_reply": "2023-12-12T15:41:23.095644Z",
     "shell.execute_reply.started": "2023-12-12T15:37:25.253499Z"
    }
   },
   "outputs": [],
   "source": [
    "#Fitting XGBoost regressor and parameter tuning using Grid search\n",
    "from sklearn.model_selection import TimeSeriesSplit\n",
    "from sklearn.model_selection import GridSearchCV\n",
    "import xgboost as xgb\n",
    "\n",
    "tscv = TimeSeriesSplit(n_splits=3)\n",
    "model = xgb.XGBRegressor()\n",
    "\n",
    "param_grid = {'nthread':[4,6,8], \n",
    "              'objective':['reg:linear'],\n",
    "              'learning_rate': [.03, 0.05, .07],\n",
    "              'max_depth': [5, 6, 7],\n",
    "              'min_child_weight': [4],\n",
    "              'silent': [1],\n",
    "              'subsample': [0.7],\n",
    "              'colsample_bytree': [0.7],\n",
    "              'n_estimators': [500]}\n",
    "\n",
    "GridSearch = GridSearchCV(estimator = model,param_grid= param_grid,cv=tscv, n_jobs = 2 )\n",
    "GridSearch.fit(X_train, y_train)\n",
    "y_pred = GridSearch.predict(X_test)"
   ]
  },
  {
   "cell_type": "code",
   "execution_count": 31,
   "metadata": {
    "execution": {
     "iopub.execute_input": "2023-12-12T15:41:23.154377Z",
     "iopub.status.busy": "2023-12-12T15:41:23.154231Z",
     "iopub.status.idle": "2023-12-12T15:41:23.157665Z",
     "shell.execute_reply": "2023-12-12T15:41:23.157037Z",
     "shell.execute_reply.started": "2023-12-12T15:41:23.154359Z"
    }
   },
   "outputs": [],
   "source": [
    "target = ['traffic_volume']\n",
    "cat_vars = ['holiday', 'snow_1h','weekday', 'hour', 'month', 'year', 'fog', 'haze','mist', 'thunderstorm', 'rain_1h']\n",
    "num_vars = ['temp','clouds_all']\n"
   ]
  },
  {
   "cell_type": "code",
   "execution_count": null,
   "metadata": {},
   "outputs": [],
   "source": []
  },
  {
   "cell_type": "code",
   "execution_count": null,
   "metadata": {},
   "outputs": [],
   "source": []
  },
  {
   "cell_type": "code",
   "execution_count": null,
   "metadata": {},
   "outputs": [],
   "source": []
  },
  {
   "cell_type": "code",
   "execution_count": 32,
   "metadata": {
    "execution": {
     "iopub.execute_input": "2023-12-12T15:49:55.116681Z",
     "iopub.status.busy": "2023-12-12T15:49:55.116430Z",
     "iopub.status.idle": "2023-12-12T15:49:55.133198Z",
     "shell.execute_reply": "2023-12-12T15:49:55.132629Z",
     "shell.execute_reply.started": "2023-12-12T15:49:55.116656Z"
    }
   },
   "outputs": [
    {
     "name": "stdout",
     "output_type": "stream",
     "text": [
      "Predicted Traffic Volume: [4910.2188]\n"
     ]
    }
   ],
   "source": [
    "import pickle\n",
    "with open(\"C:/Users/anisb/Downloads/final_model.pkl\", 'rb') as file:\n",
    "    model = pickle.load(file)\n",
    "    \n",
    "# Fill in the values for example_to_predict (excluding the target variable 'traffic_volume')\n",
    "example_to_predict = [True, 15.13, 0.0, 40, \"2012-10-02 09:00:00\",3000 ,1, \"Morning\", 10, 2012, 0, 0,0, 0, \"no_rain\"]\n",
    "\n",
    "# Create a DataFrame from the example_to_predict with column names\n",
    "example_df = pd.DataFrame([example_to_predict], columns=['holiday', 'temp', 'snow_1h', 'clouds_all', 'date_time',\"traffic_volume\", 'weekday', 'hour', 'month', 'year', 'fog', 'haze', 'mist', 'thunderstorm', 'rain_1h'])\n",
    "\n",
    "# Preprocess the example data\n",
    "example_transformed = preprocessor.transform(example_df).toarray()\n",
    "example_transformed=[np.insert(example_transformed[0],0,1,axis=0)]\n",
    "# Make predictions using the trained model\n",
    "prediction = model.predict(example_transformed)\n",
    "\n",
    "# Print or use the prediction as needed\n",
    "print(\"Predicted Traffic Volume:\", prediction)\n"
   ]
  },
  {
   "cell_type": "code",
   "execution_count": null,
   "metadata": {},
   "outputs": [],
   "source": []
  },
  {
   "cell_type": "code",
   "execution_count": 33,
   "metadata": {},
   "outputs": [
    {
     "data": {
      "image/png": "[encoded data removed]",
      "text/plain": [
       "<Figure size 640x480 with 1 Axes>"
      ]
     },
     "metadata": {},
     "output_type": "display_data"
    },
    {
     "name": "stdout",
     "output_type": "stream",
     "text": [
      "Passenger 1:\n",
      "  Foot Steps = 3 steps\n",
      "  Vehicle Steps = 0 steps\n",
      "Passenger 2:\n",
      "  Foot Steps = 3 steps\n",
      "  Vehicle Steps = 0 steps\n",
      "Passenger 3:\n",
      "  Foot Steps = 2 steps\n",
      "  Vehicle Steps = 0 steps\n",
      "Passenger 4:\n",
      "  Foot Steps = 3 steps\n",
      "  Vehicle Steps = 0 steps\n",
      "Passenger 5:\n",
      "  Foot Steps = 3 steps\n",
      "  Vehicle Steps = 0 steps\n",
      "Passenger 6:\n",
      "  Foot Steps = 3 steps\n",
      "  Vehicle Steps = 0 steps\n",
      "Passenger 7:\n",
      "  Foot Steps = 3 steps\n",
      "  Vehicle Steps = 0 steps\n",
      "Passenger 8:\n",
      "  Foot Steps = 3 steps\n",
      "  Vehicle Steps = 0 steps\n"
     ]
    }
   ],
   "source": [
    "import random\n",
    "import matplotlib.pyplot as plt\n",
    "from IPython.display import clear_output\n",
    "\n",
    "\n",
    "class City:\n",
    "    def __init__(self, size):\n",
    "        self.size = size\n",
    "        self.roads = [[0] * size for _ in range(size)]\n",
    "        self.bus_stops = [(random.randint(0, size - 1), random.randint(0, size - 1)) for _ in range(40)]\n",
    "        self.inaccessible_routes = set()\n",
    "\n",
    "\n",
    "class PublicTransportVehicle:\n",
    "    def __init__(self, route,position, inaccessible_routes):\n",
    "        self.route = route\n",
    "        self.next_stop = 0\n",
    "        self.position = position\n",
    "        self.inaccessible_routes = inaccessible_routes\n",
    "        self.passengers=[]\n",
    "\n",
    "    def move(self,city, num_positions_to_move):\n",
    "        for _ in range(num_positions_to_move):\n",
    "            if self.position!=self.route[self.next_stop]:\n",
    "                       # Calculate the direction towards the destination\n",
    "                delta_x = self.route[self.next_stop][0] - self.position[0]\n",
    "                delta_y = self.route[self.next_stop][1] - self.position[1]\n",
    "\n",
    "                # Move towards the destination or find an alternative route\n",
    "                new_x, new_y = self.position[0], self.position[1]\n",
    "                if delta_x != 0:\n",
    "                    new_x += delta_x // abs(delta_x)\n",
    "                elif delta_y != 0:\n",
    "                    new_y += delta_y // abs(delta_y)\n",
    "\n",
    "                # Check if the new position is within the city grid and accessible\n",
    "                if 0 <= new_x < city.size and 0 <= new_y < city.size and (new_x, new_y) not in self.inaccessible_routes:\n",
    "                    self.position = (new_x, new_y)\n",
    "                else:\n",
    "                    alternative_positions = [(x, y) for x in range(self.position[0]- 1, self.position[0]+ 2)\n",
    "                                             for y in range(self.position[1]- 1,self.position[1] + 2)\n",
    "                                             if 0 <= x < city.size and 0 <= y < city.size and (x, y) not in self.inaccessible_routes]\n",
    "                    if alternative_positions:\n",
    "                        self.position = random.choice(alternative_positions)\n",
    "            else:\n",
    "                self.next_stop = (self.next_stop + 1) % len(self.route)\n",
    "                break\n",
    "        \n",
    "        \n",
    "\n",
    "class Passenger:\n",
    "    def __init__(self, origin, destination, inaccessible_routes):\n",
    "        self.origin = origin\n",
    "        self.destination = destination\n",
    "        self.position = origin\n",
    "        self.inaccessible_routes = inaccessible_routes\n",
    "        self.BusTaken = False\n",
    "        self.BusStartPosition=(-1,-1)\n",
    "        self.Bus= None\n",
    "        self.foot_steps = 0\n",
    "        self.vehicle_steps = 0\n",
    "\n",
    "    def move(self, city,vehicles, take_public_transport_probability=0.5):\n",
    "        if self.position == self.destination:\n",
    "            return  # Passenger has reached the destination, no need to move further\n",
    "\n",
    "        current_x, current_y = self.position\n",
    "        dest_x, dest_y = self.destination\n",
    "        \n",
    "        if self.BusTaken == True:\n",
    "            self.vehicle_steps += 1\n",
    "            return\n",
    "        \n",
    "        # Check if the passenger is on a bus stop\n",
    "        if self.position in city.bus_stops:\n",
    "            # Check if the passenger should take public transport\n",
    "            matching_vehicles = [vehicle for vehicle in vehicles if (self.destination in vehicle.route) and (self.position==vehicle.position)]\n",
    "            if matching_vehicles: #and random.random() < take_public_transport_probability:\n",
    "                vehicle = random.choice(matching_vehicles)\n",
    "                self.BusTaken = True\n",
    "                self.Bus = vehicle\n",
    "                #self.position = vehicle.position\n",
    "                self.vehicle_steps += 1\n",
    "                return  # Skip the walking part if taking public transport\n",
    "        # Calculate the direction towards the destination\n",
    "        delta_x = dest_x - current_x\n",
    "        delta_y = dest_y - current_y\n",
    "        \n",
    "        self.foot_steps += 1\n",
    "        \n",
    "        # Move towards the destination or find an alternative route\n",
    "        new_x, new_y = current_x, current_y\n",
    "        if delta_x != 0:\n",
    "            new_x += delta_x // abs(delta_x)\n",
    "        elif delta_y != 0:\n",
    "            new_y += delta_y // abs(delta_y)\n",
    "\n",
    "        # Check if the new position is within the city grid and accessible if not find alternativeeee\n",
    "        if 0 <= new_x < city.size and 0 <= new_y < city.size and (new_x, new_y) not in self.inaccessible_routes:\n",
    "            self.position = (new_x, new_y)\n",
    "        else:\n",
    "            alternative_positions = [(x, y) for x in range(current_x - 1, current_x + 2)\n",
    "                                     for y in range(current_y - 1, current_y + 2)\n",
    "                                     if 0 <= x < city.size and 0 <= y < city.size and (x, y) not in self.inaccessible_routes]\n",
    "            if alternative_positions:\n",
    "                self.position = random.choice(alternative_positions)\n",
    "\n",
    "\n",
    "import matplotlib.pyplot as plt\n",
    "import matplotlib.image as mpimg\n",
    "\n",
    "def plot_city(city, vehicles, passengers, vehicle_image_path=\"C:/Users/anisb/OneDrive/Desktop/bus.jpg\"):\n",
    "    plt.cla()  # Clear the current axes\n",
    "\n",
    "    # Plot roads\n",
    "    for i in range(city.size):\n",
    "        for j in range(city.size):\n",
    "            if (i, j) in city.bus_stops:\n",
    "                plt.plot(i, j, 'bs', markersize=15)  # Blue square for bus stops\n",
    "                if (i, j) in city.inaccessible_routes:\n",
    "                    plt.plot(i, j, 'rx', markersize=15)  # Red 'X' for inaccessible routes\n",
    "            elif (i, j) in city.inaccessible_routes:\n",
    "                plt.plot(i, j, 'rx', markersize=15)  # Red 'X' for inaccessible routes\n",
    "            elif any((vehicle.position == (i, j)) for vehicle in vehicles):\n",
    "                pass\n",
    "            else:\n",
    "                plt.plot(i, j, 'ko', markersize=15)  # Black circle for roads\n",
    "\n",
    "    # Plot vehicles\n",
    "    vehicle_img = mpimg.imread(vehicle_image_path)\n",
    "    for vehicle in vehicles:\n",
    "        plt.imshow(vehicle_img, extent=(vehicle.position[0] - 0.5, vehicle.position[0] + 0.5,\n",
    "                                       vehicle.position[1] - 0.5, vehicle.position[1] + 0.5))\n",
    "\n",
    "    # Plot passengers\n",
    "    for passenger in passengers:\n",
    "        plt.plot(passenger.position[0], passenger.position[1], 'go', markersize=15)  # Green circle for passengers\n",
    "\n",
    "    plt.draw()\n",
    "    plt.pause(4)  # Pause to allow time for the plot to update\n",
    "\n",
    "def simulate(city_size, num_vehicles, num_passengers, num_steps):\n",
    "    city = City(city_size)\n",
    "    # Create vehicles with random routes and timetable\n",
    "    vehicles = []\n",
    "    for _ in range(num_vehicles):\n",
    "        start_stop = random.choice(city.bus_stops)\n",
    "        timetable = random.sample(city.bus_stops, len(city.bus_stops))\n",
    "        vehicle = PublicTransportVehicle(route= timetable, position=start_stop,\n",
    "                                         inaccessible_routes=city.inaccessible_routes)\n",
    "        vehicles.append(vehicle)\n",
    "\n",
    "    # Create passengers with random origins and destinations\n",
    "    passengers = [Passenger(\n",
    "        (random.randint(0, city_size - 1), random.randint(0, city_size - 1)),\n",
    "        (random.randint(0, city_size - 1), random.randint(0, city_size - 1)),\n",
    "        city.inaccessible_routes\n",
    "    ) for _ in range(num_passengers)]\n",
    "\n",
    "    for step in range(num_steps):\n",
    "        clear_output(wait=True)\n",
    "        if step != num_steps-1:\n",
    "            for i, passenger in enumerate(passengers):\n",
    "                print(f\"Passenger {i + 1}:\")\n",
    "                print(f\"  Foot Steps = {passenger.foot_steps} steps\")\n",
    "                print(f\"  Vehicle Steps = {passenger.vehicle_steps} steps\")\n",
    "        # Introduce disturbances by blocking some roads\n",
    "        blocked_route = (random.randint(0, city_size - 1), random.randint(0, city_size - 1))\n",
    "        city.inaccessible_routes.add(blocked_route)\n",
    "\n",
    "        # Move vehicles\n",
    "        for vehicle in vehicles:\n",
    "            if prediction[0]<2000:\n",
    "                vehicle_max_speed=6\n",
    "            elif prediction[0]<4000:\n",
    "                vehicle_max_speed=4\n",
    "            else:\n",
    "                vehicle_max_speed=2\n",
    "            num_positions_to_move = random.randint(1, vehicle_max_speed)\n",
    "            vehicle.move(city,num_positions_to_move)\n",
    "            for passenger in vehicle.passengers:\n",
    "                passenger.position=vehicle.position\n",
    "                for p in passengers:\n",
    "                    if p == passenger:\n",
    "                        p.position=passenger.position\n",
    "                if passenger.position== passenger.destination:\n",
    "                    vehicle.passengers.remove(passenger)\n",
    "\n",
    "        # Update passenger positions based on their individual move method\n",
    "        for passenger in passengers:\n",
    "            passenger.move(city,vehicles)\n",
    "            if passenger.BusTaken == True:\n",
    "                for vehicle in vehicles:\n",
    "                    if (vehicle.route == passenger.Bus.route) and (passenger.BusStartPosition==(-1,-1)):\n",
    "                        vehicle.passengers.append(passenger)\n",
    "                        passenger.BusStartPosition=passenger.position\n",
    "        plot_city(city, vehicles, passengers)  # Remove plt.gca() from the arguments\n",
    "    \n",
    "        for i, passenger in enumerate(passengers):\n",
    "            print(f\"Passenger {i + 1}:\")\n",
    "            print(f\"  Foot Steps = {passenger.foot_steps} steps\")\n",
    "            print(f\"  Vehicle Steps = {passenger.vehicle_steps} steps\")\n",
    "\n",
    "# Example usage\n",
    "simulate(city_size=10, num_vehicles=40, num_passengers=8, num_steps=3)\n"
   ]
  },
  {
   "cell_type": "code",
   "execution_count": null,
   "metadata": {},
   "outputs": [],
   "source": []
  },
  {
   "cell_type": "code",
   "execution_count": null,
   "metadata": {},
   "outputs": [],
   "source": []
  }
 ],
 "metadata": {
  "kaggle": {
   "accelerator": "tpu1vmV38",
   "dataSources": [
    {
     "datasetId": 218554,
     "sourceId": 473225,
     "sourceType": "datasetVersion"
    }
   ],
   "dockerImageVersionId": 28755,
   "isGpuEnabled": false,
   "isInternetEnabled": false,
   "language": "python",
   "sourceType": "notebook"
  },
  "kernelspec": {
   "display_name": "Python 3 (ipykernel)",
   "language": "python",
   "name": "python3"
  },
  "language_info": {
   "codemirror_mode": {
    "name": "ipython",
    "version": 3
   },
   "file_extension": ".py",
   "mimetype": "text/x-python",
   "name": "python",
   "nbconvert_exporter": "python",
   "pygments_lexer": "ipython3",
   "version": "3.11.3"
  }
 },
 "nbformat": 4,
 "nbformat_minor": 4
}
